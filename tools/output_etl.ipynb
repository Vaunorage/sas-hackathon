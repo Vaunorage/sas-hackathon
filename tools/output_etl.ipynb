{
 "cells": [
  {
   "cell_type": "code",
   "execution_count": 3,
   "id": "95f931eb",
   "metadata": {},
   "outputs": [
    {
     "data": {
      "application/vnd.microsoft.datawrangler.viewer.v0+json": {
       "columns": [
        {
         "name": "index",
         "rawType": "object",
         "type": "string"
        },
        {
         "name": "Sum",
         "rawType": "float64",
         "type": "float"
        },
        {
         "name": "Average",
         "rawType": "float64",
         "type": "float"
        },
        {
         "name": "Standard Deviation",
         "rawType": "float64",
         "type": "float"
        }
       ],
       "ref": "1d97901d-bf67-41e4-baaa-ce964ff2fe89",
       "rows": [
        [
         "Answer",
         "-17404920.98852677",
         "-1740.492098852677",
         "4354.135353109542"
        ]
       ],
       "shape": {
        "columns": 3,
        "rows": 1
       }
      },
      "text/html": [
       "<div>\n",
       "<style scoped>\n",
       "    .dataframe tbody tr th:only-of-type {\n",
       "        vertical-align: middle;\n",
       "    }\n",
       "\n",
       "    .dataframe tbody tr th {\n",
       "        vertical-align: top;\n",
       "    }\n",
       "\n",
       "    .dataframe thead th {\n",
       "        text-align: right;\n",
       "    }\n",
       "</style>\n",
       "<table border=\"1\" class=\"dataframe\">\n",
       "  <thead>\n",
       "    <tr style=\"text-align: right;\">\n",
       "      <th></th>\n",
       "      <th>Sum</th>\n",
       "      <th>Average</th>\n",
       "      <th>Standard Deviation</th>\n",
       "    </tr>\n",
       "  </thead>\n",
       "  <tbody>\n",
       "    <tr>\n",
       "      <th>Answer</th>\n",
       "      <td>-1.740492e+07</td>\n",
       "      <td>-1740.492099</td>\n",
       "      <td>4354.135353</td>\n",
       "    </tr>\n",
       "  </tbody>\n",
       "</table>\n",
       "</div>"
      ],
      "text/plain": [
       "                 Sum      Average  Standard Deviation\n",
       "Answer -1.740492e+07 -1740.492099         4354.135353"
      ]
     },
     "execution_count": 3,
     "metadata": {},
     "output_type": "execute_result"
    }
   ],
   "source": [
    "import pandas as pd\n",
    "\n",
    "def clean_data(df):\n",
    "    # Keep the first 10000 rows\n",
    "    df = df.head(10000)\n",
    "    \n",
    "    # Save the dataset after head(10000) to root output_dataset.csv\n",
    "    df.to_csv('../output_dataset.csv', index=False)\n",
    "    \n",
    "    # Calculate sum, average, and standard deviation of VP_FLUX_DISTRIBUABLES\n",
    "    result = {\n",
    "        \"Sum\": df[\"VP_FLUX_DISTRIBUABLES\"].sum(),\n",
    "        \"Average\": df[\"VP_FLUX_DISTRIBUABLES\"].mean(),\n",
    "        \"Standard Deviation\": df[\"VP_FLUX_DISTRIBUABLES\"].std()\n",
    "    }\n",
    "    df_stats = pd.DataFrame({\"Answer\": result})\n",
    "    # Transpose the DataFrame\n",
    "    df_stats = df_stats.T\n",
    "    # Save DataFrame to a CSV file (renamed to output_stat.csv)\n",
    "    df_stats.to_csv('../output_stat.csv', index=False)\n",
    "    return df_stats\n",
    "\n",
    "# Loaded variable 'df' from URI: seed_files/data_out/results.csv\n",
    "df = pd.read_csv(r'../seed_files/data_out/results.csv')\n",
    "\n",
    "df_clean = clean_data(df.copy())\n",
    "df_clean.head()"
   ]
  }
 ],
 "metadata": {
  "kernelspec": {
   "display_name": ".venv",
   "language": "python",
   "name": "python3"
  },
  "language_info": {
   "codemirror_mode": {
    "name": "ipython",
    "version": 3
   },
   "file_extension": ".py",
   "mimetype": "text/x-python",
   "name": "python",
   "nbconvert_exporter": "python",
   "pygments_lexer": "ipython3",
   "version": "3.12.3"
  }
 },
 "nbformat": 4,
 "nbformat_minor": 5
}
